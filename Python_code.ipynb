{
 "cells": [
  {
   "cell_type": "code",
   "execution_count": 7,
   "metadata": {},
   "outputs": [],
   "source": [
    "import mysql.connector\n",
    "import csv\n",
    "\n",
    "# --- MySQL Connection Setup ---\n",
    "db = mysql.connector.connect(\n",
    "    host=\"localhost\",          # e.g., \"localhost\" or \"127.0.0.1\"\n",
    "    #user=\"your_username\",      # your MySQL username\n",
    "    #password=\"your_password\",  # your MySQL password\n",
    "    database=\"divvy_trips_database\"   # your database name\n",
    ")\n",
    "\n",
    "cursor = db.cursor()"
   ]
  },
  {
   "cell_type": "code",
   "execution_count": null,
   "metadata": {},
   "outputs": [
    {
     "name": "stdout",
     "output_type": "stream",
     "text": [
      "✅ Data saved locally to 'Preliminary summary description of rides by ride category.csv'\n"
     ]
    }
   ],
   "source": [
    "# --- Your SQL Query ---\n",
    "query = \"\"\"SELECT member_casual,COUNT(*) AS total_rides,\n",
    "        ROUND(MAX(ride_length_mins), 2) AS max_ride_length_mins,\n",
    "        ROUND(MIN(ride_length_mins), 2) AS min_ride_length_mins,\n",
    "        ROUND(AVG(ride_length_mins), 2) AS avg_ride_length_mins\n",
    "        FROM analysis_table\n",
    "        GROUP BY member_casual;\"\"\"  # Replace with your actual query\n",
    "cursor.execute(query)\n",
    "\n",
    "# --- Fetch Data ---\n",
    "rows = cursor.fetchall()\n",
    "columns = [desc[0] for desc in cursor.description]\n",
    "\n",
    "# --- Save to CSV ---\n",
    "csv_file_name = \"Preliminary summary description of rides by ride category.csv\"  # Name of the CSV file to save locally\n",
    "\n",
    "with open(csv_file_name, mode='w', newline='', encoding='utf-8') as file:\n",
    "    writer = csv.writer(file)\n",
    "    writer.writerow(columns)      # Write column headers\n",
    "    writer.writerows(rows)        # Write row data\n",
    "\n",
    "print(f\"✅ Data saved locally to '{csv_file_name}'\")"
   ]
  },
  {
   "cell_type": "code",
   "execution_count": 10,
   "metadata": {},
   "outputs": [
    {
     "name": "stdout",
     "output_type": "stream",
     "text": [
      "✅ Data saved locally to 'Frequency distribution summary of Ride lengths.csv'\n"
     ]
    }
   ],
   "source": [
    "# --- Your SQL Query ---\n",
    "query = \"\"\"\n",
    "WITH ranked_data AS (\n",
    "    SELECT \n",
    "        member_casual,\n",
    "        ride_length_mins,\n",
    "        ROW_NUMBER() OVER (PARTITION BY member_casual ORDER BY ride_length_mins) AS rn,\n",
    "        COUNT(*) OVER (PARTITION BY member_casual) AS total_rows\n",
    "    FROM analysis_table\n",
    "),\n",
    "\n",
    "quartiles AS (\n",
    "    SELECT \n",
    "        member_casual,\n",
    "        MIN(ride_length_mins) AS min_val,\n",
    "        MAX(ride_length_mins) AS max_val,\n",
    "        \n",
    "        -- Approximate Q1: 25% rank\n",
    "        MAX(CASE WHEN rn <= total_rows * 0.25 THEN ride_length_mins END) AS q1,\n",
    "        \n",
    "        -- Approximate Median: 50% rank\n",
    "        MAX(CASE WHEN rn <= total_rows * 0.50 THEN ride_length_mins END) AS median,\n",
    "        \n",
    "        -- Approximate Q3: 75% rank\n",
    "        MAX(CASE WHEN rn <= total_rows * 0.75 THEN ride_length_mins END) AS q3\n",
    "\n",
    "    FROM ranked_data\n",
    "    GROUP BY member_casual\n",
    ")\n",
    "\n",
    "SELECT \n",
    "    member_casual,\n",
    "    ROUND(min_val, 2) AS min,\n",
    "    ROUND(q1, 2) AS q1,\n",
    "    ROUND(median, 2) AS median,\n",
    "    ROUND(q3, 2) AS q3,\n",
    "    ROUND(max_val, 2) AS max,\n",
    "\n",
    "    -- Interquartile Range\n",
    "    ROUND(q3 - q1, 2) AS iqr,\n",
    "\n",
    "    -- Outlier thresholds\n",
    "    CASE \n",
    "        WHEN q3 + 1.5 * (q3 - q1) > max_val THEN NULL \n",
    "        ELSE ROUND(q3 + 1.5 * (q3 - q1), 2)\n",
    "    END AS upper_outlier,\n",
    "\n",
    "    CASE \n",
    "        WHEN q1 - 1.5 * (q3 - q1) < min_val THEN NULL \n",
    "        ELSE ROUND(q1 - 1.5 * (q3 - q1), 2)\n",
    "    END AS lower_outlier,\n",
    "\n",
    "    CASE \n",
    "        WHEN q3 + 3 * (q3 - q1) > max_val THEN NULL \n",
    "        ELSE ROUND(q3 + 3 * (q3 - q1), 2)\n",
    "    END AS extreme_upper_outlier,\n",
    "\n",
    "    CASE \n",
    "        WHEN q1 - 3 * (q3 - q1) < min_val THEN NULL \n",
    "        ELSE ROUND(q1 - 3 * (q3 - q1), 2)\n",
    "    END AS extreme_lower_outlier\n",
    "\n",
    "FROM quartiles;\n",
    "\"\"\"  # Replace with your actual query\n",
    "cursor.execute(query)\n",
    "\n",
    "# --- Fetch Data ---\n",
    "rows = cursor.fetchall()\n",
    "columns = [desc[0] for desc in cursor.description]\n",
    "\n",
    "# --- Save to CSV ---\n",
    "csv_file_name = \"Frequency distribution summary of Ride lengths.csv\"  # Name of the CSV file to save locally\n",
    "\n",
    "with open(csv_file_name, mode='w', newline='', encoding='utf-8') as file:\n",
    "    writer = csv.writer(file)\n",
    "    writer.writerow(columns)      # Write column headers\n",
    "    writer.writerows(rows)        # Write row data\n",
    "\n",
    "print(f\"✅ Data saved locally to '{csv_file_name}'\")"
   ]
  },
  {
   "cell_type": "code",
   "execution_count": 16,
   "metadata": {},
   "outputs": [
    {
     "name": "stdout",
     "output_type": "stream",
     "text": [
      "✅ Data saved locally to 'Distribution data member.csv'\n"
     ]
    }
   ],
   "source": [
    "# --- Your SQL Query ---\n",
    "query = \"\"\"\n",
    "SELECT\n",
    "    CONCAT(bin_start, '-', bin_start + 1) AS ride_length_bin,\n",
    "    COUNT(*) AS bin_count\n",
    "FROM (\n",
    "    SELECT \n",
    "        FLOOR(ride_length_mins / 2) * 2 AS bin_start\n",
    "    FROM analysis_table\n",
    "    WHERE member_casual = 'member'\n",
    ") AS binned\n",
    "GROUP BY bin_start\n",
    "ORDER BY bin_start;\n",
    "\"\"\"  # Replace with your actual query\n",
    "cursor.execute(query)\n",
    "\n",
    "# --- Fetch Data ---\n",
    "rows = cursor.fetchall()\n",
    "columns = [desc[0] for desc in cursor.description]\n",
    "\n",
    "# --- Save to CSV ---\n",
    "csv_file_name = \"Distribution data member.csv\"  # Name of the CSV file to save locally\n",
    "\n",
    "with open(csv_file_name, mode='w', newline='', encoding='utf-8') as file:\n",
    "    writer = csv.writer(file)\n",
    "    writer.writerow(columns)      # Write column headers\n",
    "    writer.writerows(rows)        # Write row data\n",
    "\n",
    "print(f\"✅ Data saved locally to '{csv_file_name}'\")"
   ]
  },
  {
   "cell_type": "code",
   "execution_count": 17,
   "metadata": {},
   "outputs": [
    {
     "name": "stdout",
     "output_type": "stream",
     "text": [
      "✅ Data saved locally to 'Distribution data customer.csv'\n"
     ]
    }
   ],
   "source": [
    "# --- Your SQL Query ---\n",
    "query = \"\"\"\n",
    "SELECT\n",
    "    CONCAT(bin_start, '-', bin_start + 1) AS ride_length_bin,\n",
    "    COUNT(*) AS bin_count\n",
    "FROM (\n",
    "    SELECT \n",
    "        FLOOR(ride_length_mins / 2) * 2 AS bin_start\n",
    "    FROM analysis_table\n",
    "    WHERE member_casual = 'customer'\n",
    ") AS binned\n",
    "GROUP BY bin_start\n",
    "ORDER BY bin_start;\n",
    "\"\"\"  # Replace with your actual query\n",
    "cursor.execute(query)\n",
    "\n",
    "# --- Fetch Data ---\n",
    "rows = cursor.fetchall()\n",
    "columns = [desc[0] for desc in cursor.description]\n",
    "\n",
    "# --- Save to CSV ---\n",
    "csv_file_name = \"Distribution data customer.csv\"  # Name of the CSV file to save locally\n",
    "\n",
    "with open(csv_file_name, mode='w', newline='', encoding='utf-8') as file:\n",
    "    writer = csv.writer(file)\n",
    "    writer.writerow(columns)      # Write column headers\n",
    "    writer.writerows(rows)        # Write row data\n",
    "\n",
    "print(f\"✅ Data saved locally to '{csv_file_name}'\")"
   ]
  },
  {
   "cell_type": "code",
   "execution_count": null,
   "metadata": {},
   "outputs": [],
   "source": [
    "# --- Clean Up ---\n",
    "cursor.close()\n",
    "db.close()\n",
    "print(f\"✅ Database connection closed properly.\")"
   ]
  }
 ],
 "metadata": {
  "kernelspec": {
   "display_name": "Python 3",
   "language": "python",
   "name": "python3"
  },
  "language_info": {
   "codemirror_mode": {
    "name": "ipython",
    "version": 3
   },
   "file_extension": ".py",
   "mimetype": "text/x-python",
   "name": "python",
   "nbconvert_exporter": "python",
   "pygments_lexer": "ipython3",
   "version": "3.13.1"
  }
 },
 "nbformat": 4,
 "nbformat_minor": 2
}
